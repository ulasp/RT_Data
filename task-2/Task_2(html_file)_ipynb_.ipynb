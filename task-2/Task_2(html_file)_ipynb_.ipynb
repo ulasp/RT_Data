{
  "nbformat": 4,
  "nbformat_minor": 0,
  "metadata": {
    "colab": {
      "name": "Task-2(html_file).ipynb\"",
      "provenance": [],
      "collapsed_sections": []
    },
    "kernelspec": {
      "name": "python3",
      "display_name": "Python 3"
    },
    "language_info": {
      "name": "python"
    }
  },
  "cells": [
    {
      "cell_type": "markdown",
      "source": [
        "#Урок 2. Парсинг HTML. Библиотека Beautiful soup."
      ],
      "metadata": {
        "id": "4HxJBMejpWPa"
      }
    },
    {
      "cell_type": "markdown",
      "source": [
        "Необходимо собрать информацию о вакансиях на вводимую должность (используем input или через аргументы получаем должность) с сайтов HH(обязательно) и/или Superjob(по желанию). Приложение должно анализировать несколько страниц сайта (также вводим через input или аргументы). Получившийся список должен содержать в себе минимум:\n",
        "\n",
        "\n",
        "1.   Наименование вакансии.\n",
        "2.   Предлагаемую зарплату (разносим в три поля: минимальная и максимальная и валюта. цифры преобразуем к цифрам).\n",
        "3.   Ссылку на саму вакансию.\n",
        "4.   Сайт, откуда собрана вакансия.\n",
        "\n"
      ],
      "metadata": {
        "id": "gBRrL9cIpmsF"
      }
    },
    {
      "cell_type": "markdown",
      "source": [
        "> *По желанию можно добавить ещё параметры вакансии (например, работодателя и расположение). Структура должна быть одинаковая для вакансий с обоих сайтов. Общий результат можно вывести с помощью dataFrame через pandas. Сохраните в json либо csv.*"
      ],
      "metadata": {
        "id": "2Ue33Bxmp2Qv"
      }
    },
    {
      "cell_type": "code",
      "source": [
        "import re\n",
        "from bs4 import BeautifulSoup as bs\n",
        "import requests\n",
        "from pprint import pprint\n",
        "import pandas as pd"
      ],
      "metadata": {
        "id": "23XXnyu4qDrd"
      },
      "execution_count": 3,
      "outputs": []
    },
    {
      "cell_type": "code",
      "source": [
        "# ссылка (это я для себя ее так перенесла, показалось удобнее :))\n",
        "# https://hh.ru/search/vacancy?\n",
        "# clusters=true&\n",
        "# area=1&\n",
        "# ored_clusters=true&\n",
        "# enable_snippets=true&\n",
        "# salary=&\n",
        "# text=design&\n",
        "# page=3"
      ],
      "metadata": {
        "id": "zdNvs1WhdAsM"
      },
      "execution_count": null,
      "outputs": []
    },
    {
      "cell_type": "code",
      "source": [
        "field_search = 'design'\n",
        "last_page = 10\n",
        "page = 0\n",
        "\n",
        "params = {'text': field_search,\n",
        "          'page': page}\n",
        "\n",
        "url = 'https://hh.ru/vacancy/'\n",
        "base_url = 'https://hh.ru/search/vacancy?clusters=true&area=1&ored_clusters=true&enable_snippets=true&salary=&'\n",
        "\n",
        "headers = {'user-agent': 'Mozilla/5.0 (X11; Linux x86_64; rv:69.0) Gecko/20100101 Firefox/69.0'}"
      ],
      "metadata": {
        "id": "0cNhesykdK0l"
      },
      "execution_count": 4,
      "outputs": []
    },
    {
      "cell_type": "code",
      "source": [
        "for page in range(last_page):\n",
        "    params['page'] = page\n",
        "\n",
        "    response = requests.get(base_url, params=params, headers=headers)\n",
        "\n",
        "    with open('/content/drive/MyDrive/Colab Notebooks/hh_response.html', 'a', encoding='utf-8') as f:\n",
        "        f.write(response.text)\n",
        "    page = +1"
      ],
      "metadata": {
        "id": "fnPaZukgdS5i"
      },
      "execution_count": 6,
      "outputs": []
    },
    {
      "cell_type": "code",
      "source": [
        "html_file = ''\n",
        "with open('/content/drive/MyDrive/Colab Notebooks/hh_response.html', 'r', encoding='utf-8') as f:\n",
        "    html_file = f.read()\n",
        "\n",
        "dom = bs(html_file, 'html.parser')"
      ],
      "metadata": {
        "id": "XgIimJWTgczq"
      },
      "execution_count": 11,
      "outputs": []
    },
    {
      "cell_type": "code",
      "source": [
        "vacancies = dom.find_all('div', {'class': 'vacancy-serp-item-body'})\n",
        "\n",
        "vacancies_list = []\n",
        "for vacancy in vacancies:\n",
        "    vacancy_data = {} # на каждую итерацию будем содавать словарь с данными\n",
        "    vacancy_name = vacancy.find('span', {'class': 'g-user-content'}).getText()\n",
        "    vacancy_link = vacancy.find('a', {'class': 'bloko-link'})['href']\n",
        "    vacancy_company = vacancy.find('div', {'class': 'vacancy-serp-item__meta-info-company'}).getText().replace(u'\\xa0', u' ')\n",
        "    vacancy_city = vacancy.find('div', {'class': 'bloko-text bloko-text_no-top-indent'}).getText()\n",
        "    vacancy_salary = vacancy.find('span', {'class': 'bloko-header-section-3'})\n",
        "    # salary\n",
        "    if vacancy_salary:\n",
        "        vacancy_salary = vacancy_salary.getText().replace('\\xa0', ' ', 3)\n",
        "        vacancy_salary = re.split(r'\\s|-', vacancy_salary)\n",
        "        if vacancy_salary[0] == 'до':\n",
        "            vacancy_salary_min = None\n",
        "            vacancy_salary_max = int(vacancy_salary[1]+vacancy_salary[2])\n",
        "            vacancy_salary_currency = vacancy_salary[3]\n",
        "        elif vacancy_salary[0] == 'от':\n",
        "            vacancy_salary_min = int(vacancy_salary[1]+vacancy_salary[2])\n",
        "            vacancy_salary_max = None\n",
        "            vacancy_salary_currency = vacancy_salary[3]\n",
        "        else:\n",
        "            vacancy_salary_min = vacancy_salary[0] + vacancy_salary[1]\n",
        "            vacancy_salary_max = vacancy_salary[3] + vacancy_salary[4]\n",
        "            #vacancy_salary_currency = vacancy_salary[5]\n",
        "\n",
        "\n",
        "        #print(vacancy_salary[1]+vacancy_salary[2])\n",
        "    else:\n",
        "        vacancy_salary = None\n",
        "        vacancy_salary_min = None\n",
        "        vacancy_salary_max = None\n",
        "        vacancy_salary_currency = None\n",
        "        \n",
        "    vacancy_data['name'] = vacancy_name\n",
        "    vacancy_data['link'] = vacancy_link\n",
        "    vacancy_data['company'] = vacancy_company\n",
        "    vacancy_data['city'] = vacancy_city\n",
        "    vacancy_data['salary_min'] = vacancy_salary_min\n",
        "    vacancy_data['salary_max'] = vacancy_salary_max\n",
        "    vacancy_data['salary_currency'] = vacancy_salary_currency\n",
        "    vacancies_list.append(vacancy_data)\n"
      ],
      "metadata": {
        "id": "83Wdw1oBdp5o"
      },
      "execution_count": 15,
      "outputs": []
    },
    {
      "cell_type": "code",
      "source": [
        "df = pd.DataFrame(vacancies_list)\n",
        "print(df)"
      ],
      "metadata": {
        "colab": {
          "base_uri": "https://localhost:8080/"
        },
        "id": "RK4hDBvMdupL",
        "outputId": "31aa8ad3-13e0-48b4-fe97-a1dd46a65b28"
      },
      "execution_count": 19,
      "outputs": [
        {
          "output_type": "stream",
          "name": "stdout",
          "text": [
            "                                                 name  \\\n",
            "0                                Графический дизайнер   \n",
            "1                            UI/UX дизайнер (Gamedev)   \n",
            "2         Менеджер проектов (продажа мебели, премиум)   \n",
            "3                         Ведущий креативный дизайнер   \n",
            "4                                      Швея по шторам   \n",
            "..                                                ...   \n",
            "455   Руководитель проектов (продажа мебели, премиум)   \n",
            "456                               Архитектор-дизайнер   \n",
            "457                  Дизайнер презентаций/Архитектура   \n",
            "458  Дизайнер по интерьерам и экстерьерам автомобилей   \n",
            "459                              Дизайнер презентаций   \n",
            "\n",
            "                                                  link               company  \\\n",
            "0    https://hh.ru/vacancy/49230167?from=vacancy_se...           Экостандарт   \n",
            "1    https://hh.ru/vacancy/43310773?from=vacancy_se...          Студия Кефир   \n",
            "2    https://hh.ru/vacancy/54531502?from=vacancy_se...  Gordon Design Studio   \n",
            "3    https://hh.ru/vacancy/53640647?from=vacancy_se...                LIMONI   \n",
            "4    https://hh.ru/vacancy/54515210?from=vacancy_se...             AJ Design   \n",
            "..                                                 ...                   ...   \n",
            "455  https://hh.ru/vacancy/54534689?from=vacancy_se...  Gordon Design Studio   \n",
            "456  https://hh.ru/vacancy/54389714?from=vacancy_se...       ООО ЛЕО Компани   \n",
            "457  https://hh.ru/vacancy/54502595?from=vacancy_se...          ООО Даер Рус   \n",
            "458  https://hh.ru/vacancy/54601454?from=vacancy_se...              ООО Zart   \n",
            "459  https://hh.ru/vacancy/52605330?from=vacancy_se...               BetBoom   \n",
            "\n",
            "                                       city salary_min salary_max  \\\n",
            "0                        Москва, Бауманская      70000       None   \n",
            "1                                    Москва       None       None   \n",
            "2                   Москва, Динамо и еще 1       40000     250000   \n",
            "3                      Москва, Первомайская     100000     120000   \n",
            "4                                    Москва      50000       None   \n",
            "..                                      ...        ...        ...   \n",
            "455                 Москва, Динамо и еще 1       60000     150000   \n",
            "456  Москва, Бульвар Рокоссовского и еще 2       80000       None   \n",
            "457                          Москва, Динамо      50000       None   \n",
            "458                                  Москва     150000     200000   \n",
            "459                                  Москва       None       None   \n",
            "\n",
            "    salary_currency  \n",
            "0              руб.  \n",
            "1              None  \n",
            "2              None  \n",
            "3              None  \n",
            "4              руб.  \n",
            "..              ...  \n",
            "455            None  \n",
            "456            руб.  \n",
            "457            руб.  \n",
            "458            руб.  \n",
            "459            None  \n",
            "\n",
            "[460 rows x 7 columns]\n"
          ]
        }
      ]
    },
    {
      "cell_type": "code",
      "source": [
        "df.to_csv('/content/drive/MyDrive/Colab Notebooks/file.csv')"
      ],
      "metadata": {
        "id": "lnvU9DP9q5kB"
      },
      "execution_count": 20,
      "outputs": []
    }
  ]
}